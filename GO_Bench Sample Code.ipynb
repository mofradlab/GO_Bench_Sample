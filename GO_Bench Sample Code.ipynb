{
 "cells": [
  {
   "cell_type": "markdown",
   "metadata": {},
   "source": [
    "# Generate data from GO Bench website\n",
    "\n",
    "Go to the GO Bench dataset form to access a form for requesting datasets. \n",
    "\n",
    "<img src=\"images/gb_header.png\" width=800>\n",
    "\n",
    "Select dataset parameters such as acceptable evidence codes, annotation propagation, or namespace, on the GO_Bench dataset_form page. Presets are highly recommended, but for details of code see documentation page. \n",
    "\n",
    "<img src=\"images/gb_presets_ex.png\" width=400>\n",
    "\n",
    "On submission, the form will lead to a loading page, where your download will become available. Download for access to annotations. \n",
    "\n",
    "<img src=\"images/gb_download_link_ex.png\" width=400>\n"
   ]
  },
  {
   "cell_type": "markdown",
   "metadata": {},
   "source": [
    "# Data extraction\n",
    "\n",
    "Uncompress data using `tar -xzvf GO_benchmark_data.tar.gz` and move results to the data directory. You should find the following file structure, containing tsv files with protein identifiers and annotations, and the sets of GO terms found in files for each namespace. \n",
    "\n",
    "<img src=\"images/gb_file_structure.png\" width=400>\n",
    "\n",
    "\n"
   ]
  },
  {
   "cell_type": "code",
   "execution_count": null,
   "metadata": {},
   "outputs": [],
   "source": [
    "!mkdir data/GO_benchmark_data\n",
    "!tar -xzvf data/GO_benchmark_data.tar.gz -C data/GO_benchmark_data\n",
    "\n",
    "!pip install git+https://github.com/amdson/go_bench.git\n",
    "!pip install qtlsearch"
   ]
  },
  {
   "cell_type": "markdown",
   "metadata": {},
   "source": [
    "# Download sequences\n",
    "\n",
    "Protein sequences from the SwissProt dataset used in GO Bench are linked to in the Supplementary page on GO Bench, and can again be extracted using `tar -xvzf ...` \n",
    "\n",
    "The resulting compressed fasta file should be saved for use in model predictions. \n",
    "\n",
    "<img src=\"images/gb_swiss_dl_link.png\" width=400>\n",
    "\n",
    "Because of the large file size, protein sequences must be downloaded seperately. \n",
    "\n"
   ]
  },
  {
   "cell_type": "code",
   "execution_count": null,
   "metadata": {},
   "outputs": [],
   "source": [
    "!wget https://ftp.uniprot.org/pub/databases/uniprot/previous_major_releases/release-2021_02/knowledgebase/uniprot_sprot-only2021_02.tar.gz\n",
    "!tar -xvzf uniprot_sprot-only2021_02.tar.gz -C data"
   ]
  },
  {
   "cell_type": "markdown",
   "metadata": {},
   "source": [
    "# go_bench for data loading"
   ]
  },
  {
   "cell_type": "code",
   "execution_count": 6,
   "metadata": {},
   "outputs": [
    {
     "name": "stdout",
     "output_type": "stream",
     "text": [
      "The autoreload extension is already loaded. To reload it, use:\n",
      "  %reload_ext autoreload\n"
     ]
    }
   ],
   "source": [
    "%load_ext autoreload\n",
    "%autoreload 2\n",
    "from go_bench.load_tools import load_protein_sequences, load_GO_tsv_file, convert_to_sparse_matrix\n",
    "import json"
   ]
  },
  {
   "cell_type": "code",
   "execution_count": 7,
   "metadata": {},
   "outputs": [
    {
     "name": "stdout",
     "output_type": "stream",
     "text": [
      "0 proteins processed\n",
      "100000 proteins processed\n",
      "200000 proteins processed\n",
      "300000 proteins processed\n",
      "400000 proteins processed\n",
      "500000 proteins processed\n",
      "0 proteins processed\n",
      "100000 proteins processed\n",
      "200000 proteins processed\n",
      "300000 proteins processed\n",
      "400000 proteins processed\n",
      "500000 proteins processed\n",
      "0 proteins processed\n",
      "100000 proteins processed\n",
      "200000 proteins processed\n",
      "300000 proteins processed\n",
      "400000 proteins processed\n",
      "500000 proteins processed\n",
      "['mstilekisaiesemartqknkatsahlgllkaklaklrrelispkgggggtgeagfevaktgdarvgfvgfpsvgkstllsnlagvysevaayefttlttvpgcikykgakiqlldlpgiiegakdgkgrgrqviavartcnlifmvldclkplghkkllehelegfgirlnkkppniyykrkdkgginlnsmvpqseldtdlvktilseykihnaditlrydatsddlidviegnriyipciyllnkidqisieeldviykiphcvpisahhhwnfddllelmweylrlqriytkpkgqlpdynspvvlhnertsiedfcnklhrsiakefkyalvwgssvkhqpqkvgiehvlndedvvqivkkv', 'menerekqvylaklseqterydemveamkkvaqldveltveernlvsvgyknvigarraswrilssieqkeeskgndenvkrlknyrkrvedelakvcndilsvidkhlipssnavestvffykmkgdyyrylaefssgaerkeaadqsleaykaavaaaenglapthpvrlglalnfsvfyyeilnspesacqlakqafddaiaeldslneesykdstlimqllrdnltlwtsdlneegdertkgadepqden', 'matpgassardefvymaklaeqaeryeemvefmekvakavdkdeltveernllsvayknvigarraswriissieqkeesrgnddhvslirdyrskietelsdicdgilklldtilvpaaasgdskvfylkmkgdyhrylaefksgqerkdaaehtltaykaaqdianselapthpirlglalnfsvfyyeilnspdracnlakqafdeaiaeldtlgeesykdstlimqllrdnltlwtsdmqddvaddikeaapaaakpadeqqs']\n",
      "34192 7496 8753\n"
     ]
    }
   ],
   "source": [
    "dtypes = [\"training\", \"validation\", \"testing\"]\n",
    "namespace = \"molecular_function\"\n",
    "with open(f\"data/GO_benchmark_data/{namespace}_terms.json\", \"r\") as f:\n",
    "    term_list = json.load(f)\n",
    "    \n",
    "dsets = []\n",
    "for dtype in dtypes:\n",
    "    protein_annotation_dict = load_GO_tsv_file(f\"data/GO_benchmark_data/{dtype}_{namespace}_annotations.tsv\")\n",
    "    prot_id_whitelist = [prot_id for prot_id in protein_annotation_dict.keys()]\n",
    "    sequences, prot_ids = load_protein_sequences(\"data/uniprot_sprot.fasta.gz\", prot_id_whitelist)\n",
    "    labels = convert_to_sparse_matrix(protein_annotation_dict, term_list, prot_ids)\n",
    "    dsets.append((prot_ids, sequences, labels))\n",
    "\n",
    "training_ids, training_sequences, training_labels = dsets[0]\n",
    "validation_ids, validation_sequences, validation_labels = dsets[1]\n",
    "testing_ids, testing_sequences, testing_labels = dsets[2]\n",
    "\n",
    "print(training_sequences[:3])\n",
    "print(len(training_ids), len(validation_ids), len(testing_ids))"
   ]
  },
  {
   "cell_type": "markdown",
   "metadata": {},
   "source": [
    "# Simple modeling with knn"
   ]
  },
  {
   "cell_type": "code",
   "execution_count": 8,
   "metadata": {},
   "outputs": [
    {
     "name": "stderr",
     "output_type": "stream",
     "text": [
      "C:\\Users\\amdic\\anaconda3\\envs\\gobench_windows\\lib\\site-packages\\sklearn\\utils\\deprecation.py:87: FutureWarning: Function get_feature_names is deprecated; get_feature_names is deprecated in 1.0 and will be removed in 1.2. Please use get_feature_names_out instead.\n",
      "  warnings.warn(msg, category=FutureWarning)\n"
     ]
    },
    {
     "name": "stdout",
     "output_type": "stream",
     "text": [
      "489\n",
      "(34192, 489)\n",
      "(8753, 489)\n",
      "(34192, 659)\n",
      "(8753, 659)\n"
     ]
    }
   ],
   "source": [
    "from sklearn.feature_extraction.text import TfidfVectorizer\n",
    "vectorizer = TfidfVectorizer(analyzer='char', ngram_range=(1,2))\n",
    "vectorizer.fit(training_sequences)\n",
    "print(len(vectorizer.get_feature_names()))\n",
    "X_training = vectorizer.transform(training_sequences)\n",
    "X_testing = vectorizer.transform(testing_sequences)\n",
    "print(X_training.shape)\n",
    "print(X_testing.shape)\n",
    "y_training = training_labels\n",
    "y_testing = testing_labels\n",
    "print(y_training.shape)\n",
    "print(y_testing.shape)"
   ]
  },
  {
   "cell_type": "code",
   "execution_count": 9,
   "metadata": {},
   "outputs": [
    {
     "name": "stderr",
     "output_type": "stream",
     "text": [
      "C:\\Users\\amdic\\anaconda3\\envs\\gobench_windows\\lib\\site-packages\\sklearn\\neighbors\\_base.py:513: UserWarning: cannot use tree with sparse input: using brute force\n",
      "  warnings.warn(\"cannot use tree with sparse input: using brute force\")\n"
     ]
    }
   ],
   "source": [
    "from sklearn.neighbors import NearestNeighbors\n",
    "nbrs = NearestNeighbors(n_neighbors=5, algorithm='ball_tree').fit(X_training)\n",
    "distances, indices = nbrs.kneighbors(X_testing)"
   ]
  },
  {
   "cell_type": "code",
   "execution_count": 10,
   "metadata": {},
   "outputs": [
    {
     "name": "stdout",
     "output_type": "stream",
     "text": [
      "(8753, 659)\n"
     ]
    }
   ],
   "source": [
    "from scipy.sparse import vstack, csr_matrix\n",
    "pred_l = []\n",
    "for n_indices in indices:\n",
    "    test_pred = csr_matrix(training_labels[n_indices].sum(axis=0))/n_indices.shape[0]\n",
    "    pred_l.append(test_pred)\n",
    "predictions = vstack(pred_l)\n",
    "print(predictions.shape)"
   ]
  },
  {
   "cell_type": "markdown",
   "metadata": {},
   "source": [
    "# Evaluate predictions with go_bench"
   ]
  },
  {
   "cell_type": "code",
   "execution_count": 11,
   "metadata": {},
   "outputs": [],
   "source": [
    "from go_bench.metrics import threshold_stats\n",
    "import numpy as np\n",
    "from qtlsearch.OBOParser import OBO\n",
    "from go_bench.load_tools import write_sparse\n",
    "\n",
    "go = OBO('data/go-basic.obo', store_as_int=True)\n",
    "\n",
    "with open(\"data/ia_dict.json\", \"r\") as f:\n",
    "    ia_dict = {int(x): float(y) for x, y in json.load(f).items()}\n",
    "\n",
    "test_ia = np.zeros(len(term_list))\n",
    "for i, test_id in enumerate(term_list):\n",
    "    id_int = int(test_id[3:])\n",
    "    if(id_int in go and id_int in ia_dict):\n",
    "        test_ia[i] = ia_dict[id_int]\n",
    "\n",
    "precs, recs, f_scores, rms, mis, rus, s_vals = threshold_stats(csr_matrix(y_testing), predictions, test_ia)"
   ]
  },
  {
   "cell_type": "code",
   "execution_count": 12,
   "metadata": {},
   "outputs": [
    {
     "data": {
      "image/png": "[encoded data removed]",
      "text/plain": [
       "<Figure size 640x480 with 1 Axes>"
      ]
     },
     "metadata": {},
     "output_type": "display_data"
    },
    {
     "data": {
      "image/png": "[encoded data removed]",
      "text/plain": [
       "<Figure size 640x480 with 1 Axes>"
      ]
     },
     "metadata": {},
     "output_type": "display_data"
    },
    {
     "data": {
      "image/png": "[encoded data removed]",
      "text/plain": [
       "<Figure size 640x480 with 1 Axes>"
      ]
     },
     "metadata": {},
     "output_type": "display_data"
    }
   ],
   "source": [
    "import matplotlib.pyplot as plt\n",
    "plt.plot(precs[:-1], recs[:-1])\n",
    "plt.xlabel(\"Recall\")\n",
    "plt.ylabel(\"Precision\")\n",
    "plt.title(f\"KNN Precision-Recall (F-Max {max(f_scores):,.2f})\")\n",
    "plt.show()\n",
    "plt.plot(f_scores)\n",
    "plt.show()\n",
    "plt.plot(rms)\n",
    "plt.show()"
   ]
  },
  {
   "cell_type": "markdown",
   "metadata": {},
   "source": [
    "# Save predictions for submission"
   ]
  },
  {
   "cell_type": "code",
   "execution_count": 55,
   "metadata": {},
   "outputs": [],
   "source": [
    "write_sparse(f'data/molecular_function_predictions.tsv', prediction_probs, testing_ids, term_list, go, 0.01)"
   ]
  },
  {
   "cell_type": "markdown",
   "metadata": {},
   "source": [
    "# Submit predictions\n",
    "\n",
    "Submit predictions in the CAFA format (As produced by the write_sparse function) to the GO Bench website to compare with other teams, and see evaluations. \n",
    "\n",
    "<img src=\"images/gb_upload_screen.png\" width=550>\n",
    "\n",
    "After submission, you can view your model on our leaderboard, or visualize its results using the model visualizations tool on the sideboard. \n",
    "\n",
    "<img src=\"images/model_viz_page.png\" width=600>\n"
   ]
  },
  {
   "cell_type": "code",
   "execution_count": null,
   "metadata": {},
   "outputs": [],
   "source": []
  }
 ],
 "metadata": {
  "kernelspec": {
   "display_name": "Python 3 (ipykernel)",
   "language": "python",
   "name": "python3"
  },
  "language_info": {
   "codemirror_mode": {
    "name": "ipython",
    "version": 3
   },
   "file_extension": ".py",
   "mimetype": "text/x-python",
   "name": "python",
   "nbconvert_exporter": "python",
   "pygments_lexer": "ipython3",
   "version": "3.10.8"
  }
 },
 "nbformat": 4,
 "nbformat_minor": 4
}
