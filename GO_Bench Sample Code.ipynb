{
 "cells": [
  {
   "cell_type": "markdown",
   "metadata": {},
   "source": [
    "# Generate data from GO Bench website\n",
    "\n",
    "Go to the GO Bench dataset form to access a form for requesting datasets. \n",
    "\n",
    "<img src=\"images/gb_header.png\" width=800>\n",
    "\n",
    "Select dataset parameters such as acceptable evidence codes, annotation propagation, or namespace, on the GO_Bench dataset_form page. Presets are highly recommended, but for details of code see documentation page. \n",
    "\n",
    "<img src=\"images/gb_presets_ex.png\" width=400>\n",
    "\n",
    "On submission, the form will lead to a loading page, where your download will become available. Download for access to annotations. \n",
    "\n",
    "<img src=\"images/gb_download_link_ex.png\" width=400>\n"
   ]
  },
  {
   "cell_type": "markdown",
   "metadata": {},
   "source": [
    "# Data extraction\n",
    "\n",
    "Uncompress data using `tar -xzvf GO_benchmark_data.tar.gz` and move results to the data directory. You should find the following file structure, containing tsv files with protein identifiers and annotations, and the sets of GO terms found in files for each namespace. \n",
    "\n",
    "<img src=\"images/gb_file_structure.png\" width=400>\n",
    "\n",
    "\n"
   ]
  },
  {
   "cell_type": "code",
   "execution_count": 2,
   "metadata": {},
   "outputs": [
    {
     "name": "stdout",
     "output_type": "stream",
     "text": [
      "mkdir: cannot create directory ‘data/GO_benchmark_data2’: File exists\n",
      "tar: Removing leading `/' from member names\n",
      "/\n",
      "biological_process_terms.json\n",
      "cellular_component_terms.json\n",
      "molecular_function_terms.json\n",
      "testing_biological_process_annotations.tsv\n",
      "testing_cellular_component_annotations.tsv\n",
      "testing_molecular_function_annotations.tsv\n",
      "training_biological_process_annotations.tsv\n",
      "training_cellular_component_annotations.tsv\n",
      "training_molecular_function_annotations.tsv\n",
      "validation_biological_process_annotations.tsv\n",
      "validation_cellular_component_annotations.tsv\n",
      "validation_molecular_function_annotations.tsv\n"
     ]
    }
   ],
   "source": [
    "!mkdir data/GO_benchmark_data\n",
    "!tar -xzvf data/GO_benchmark_data.tar.gz -C data/GO_benchmark_data\n",
    "!pip install git+https://github.com/amdson/go_bench.git\n", 
     "!pip install qtlsearch\n"
   ]
  },
  {
   "cell_type": "markdown",
   "metadata": {},
   "source": [
    "# Download sequences\n",
    "\n",
    "Protein sequences from the SwissProt dataset used in GO Bench are linked to in the Supplementary page on GO Bench, and can again be extracted using `tar -xvzf ...` \n",
    "\n",
    "The resulting compressed fasta file should be saved for use in model predictions. \n",
    "\n",
    "<img src=\"images/gb_swiss_dl_link.png\" width=400>\n",
    "\n",
    "Because of the large file size, protein sequences must be downloaded seperately. \n",
    "\n"
   ]
  },
  {
   "cell_type": "code",
   "execution_count": 3,
   "metadata": {},
   "outputs": [
    {
     "name": "stdout",
     "output_type": "stream",
     "text": [
      "--2021-12-27 01:40:41--  https://ftp.uniprot.org/pub/databases/uniprot/previous_major_releases/release-2021_02/knowledgebase/uniprot_sprot-only2021_02.tar.gz\n",
      "Resolving ftp.uniprot.org (ftp.uniprot.org)... 128.175.240.195\n",
      "Connecting to ftp.uniprot.org (ftp.uniprot.org)|128.175.240.195|:443... connected.\n",
      "HTTP request sent, awaiting response... 200 OK\n",
      "Length: 1491395408 (1.4G) [application/x-gzip]\n",
      "Saving to: ‘uniprot_sprot-only2021_02.tar.gz’\n",
      "\n",
      "uniprot_sprot-only2 100%[===================>]   1.39G  34.3MB/s    in 71s     \n",
      "\n",
      "2021-12-27 01:41:52 (20.1 MB/s) - ‘uniprot_sprot-only2021_02.tar.gz’ saved [1491395408/1491395408]\n",
      "\n"
     ]
    }
   ],
   "source": [
    "!wget https://ftp.uniprot.org/pub/databases/uniprot/previous_major_releases/release-2021_02/knowledgebase/uniprot_sprot-only2021_02.tar.gz\n",
    "!tar -xvzf uniprot_sprot-only2021_02.tar.gz -C data"
   ]
  },
  {
   "cell_type": "markdown",
   "metadata": {},
   "source": [
    "# go_bench for data loading"
   ]
  },
  {
   "cell_type": "code",
   "execution_count": 1,
   "metadata": {},
   "outputs": [],
   "source": [
    "%load_ext autoreload\n",
    "%autoreload 2\n",
    "from go_bench.load_tools import load_protein_sequences, load_GO_tsv_file, convert_to_sparse_matrix\n",
    "import json"
   ]
  },
  {
   "cell_type": "code",
   "execution_count": 6,
   "metadata": {},
   "outputs": [
    {
     "name": "stdout",
     "output_type": "stream",
     "text": [
      "['mstilekisaiesemartqknkatsahlgllkaklaklrrelispkgggggtgeagfevaktgdarvgfvgfpsvgkstllsnlagvysevaayefttlttvpgcikykgakiqlldlpgiiegakdgkgrgrqviavartcnlifmvldclkplghkkllehelegfgirlnkkppniyykrkdkgginlnsmvpqseldtdlvktilseykihnaditlrydatsddlidviegnriyipciyllnkidqisieeldviykiphcvpisahhhwnfddllelmweylrlqriytkpkgqlpdynspvvlhnertsiedfcnklhrsiakefkyalvwgssvkhqpqkvgiehvlndedvvqivkkv', 'menerekqvylaklseqterydemveamkkvaqldveltveernlvsvgyknvigarraswrilssieqkeeskgndenvkrlknyrkrvedelakvcndilsvidkhlipssnavestvffykmkgdyyrylaefssgaerkeaadqsleaykaavaaaenglapthpvrlglalnfsvfyyeilnspesacqlakqafddaiaeldslneesykdstlimqllrdnltlwtsdlneegdertkgadepqden', 'matpgassardefvymaklaeqaeryeemvefmekvakavdkdeltveernllsvayknvigarraswriissieqkeesrgnddhvslirdyrskietelsdicdgilklldtilvpaaasgdskvfylkmkgdyhrylaefksgqerkdaaehtltaykaaqdianselapthpirlglalnfsvfyyeilnspdracnlakqafdeaiaeldtlgeesykdstlimqllrdnltlwtsdmqddvaddikeaapaaakpadeqqs']\n",
      "34192 7496 8753\n"
     ]
    }
   ],
   "source": [
    "dtypes = [\"training\", \"validation\", \"testing\"]\n",
    "namespace = \"molecular_function\"\n",
    "with open(f\"data/GO_benchmark_data/{namespace}_terms.json\", \"r\") as f:\n",
    "    term_list = json.load(f)\n",
    "    \n",
    "dsets = []\n",
    "for dtype in dtypes:\n",
    "    protein_annotation_dict = load_GO_tsv_file(f\"data/GO_benchmark_data/{dtype}_{namespace}_annotations.tsv\")\n",
    "    prot_id_whitelist = [prot_id for prot_id in protein_annotation_dict.keys()]\n",
    "    sequences, prot_ids = load_protein_sequences(\"data/uniprot_sprot.fasta.gz\", prot_id_whitelist)\n",
    "    labels = convert_to_sparse_matrix(protein_annotation_dict, term_list, prot_ids)\n",
    "    dsets.append((prot_ids, sequences, labels))\n",
    "\n",
    "training_ids, training_sequences, training_labels = dsets[0]\n",
    "validation_ids, validation_sequences, validation_labels = dsets[1]\n",
    "testing_ids, testing_sequences, testing_labels = dsets[2]\n",
    "\n",
    "print(training_sequences[:3])\n",
    "print(len(training_ids), len(validation_ids), len(testing_ids))"
   ]
  },
  {
   "cell_type": "markdown",
   "metadata": {},
   "source": [
    "# Simple modeling with knn"
   ]
  },
  {
   "cell_type": "code",
   "execution_count": 13,
   "metadata": {},
   "outputs": [
    {
     "name": "stdout",
     "output_type": "stream",
     "text": [
      "(34192, 489)\n",
      "(8753, 489)\n",
      "(34192, 659)\n",
      "(8753, 659)\n"
     ]
    }
   ],
   "source": [
    "from sklearn.feature_extraction.text import TfidfVectorizer\n",
    "vectorizer = TfidfVectorizer(analyzer='char', ngram_range=(1,2))\n",
    "vectorizer.fit(training_sequences)\n",
    "print(len(vectorizer.get_feature_names()))\n",
    "X_training = vectorizer.transform(training_sequences)\n",
    "X_testing = vectorizer.transform(testing_sequences)\n",
    "print(X_training.shape)\n",
    "print(X_testing.shape)\n",
    "y_training = training_labels\n",
    "y_testing = testing_labels\n",
    "print(y_training.shape)\n",
    "print(y_testing.shape)"
   ]
  },
  {
   "cell_type": "code",
   "execution_count": 14,
   "metadata": {},
   "outputs": [],
   "source": [
    "from skmultilearn.adapt import MLkNN\n",
    "knn = MLkNN(k=5)\n",
    "knn.fit(X_training, y_training)\n",
    "predictions = knn.predict(X_testing)"
   ]
  },
  {
   "cell_type": "code",
   "execution_count": 24,
   "metadata": {},
   "outputs": [],
   "source": [
    "prediction_probs = knn.predict_proba(X_testing)"
   ]
  },
  {
   "cell_type": "code",
   "execution_count": 25,
   "metadata": {},
   "outputs": [
    {
     "name": "stdout",
     "output_type": "stream",
     "text": [
      "(8753, 659)\n",
      "(8753, 659)\n"
     ]
    }
   ],
   "source": [
    "print(predictions.shape)\n",
    "prediction_probs = \n",
    "print(prediction_probs.shape)"
   ]
  },
  {
   "cell_type": "markdown",
   "metadata": {},
   "source": [
    "# Evaluate predictions with go_bench"
   ]
  },
  {
   "cell_type": "code",
   "execution_count": 36,
   "metadata": {},
   "outputs": [],
   "source": [
    "from go_bench.metrics import threshold_stats\n",
    "import numpy as np\n",
    "from qtlsearch.OBOParser import OBO\n",
    "from go_bench.load_tools import write_sparse\n",
    "\n",
    "go = OBO('data/go-basic.obo', store_as_int=True)\n",
    "\n",
    "with open(\"data/ia_dict.json\", \"r\") as f:\n",
    "    ia_dict = {int(x): float(y) for x, y in json.load(f).items()}\n",
    "\n",
    "test_ia = np.zeros(len(term_list))\n",
    "for i, test_id in enumerate(term_list):\n",
    "    id_int = int(test_id[3:])\n",
    "    if(id_int in go and id_int in ia_dict):\n",
    "        test_ia[i] = ia_dict[id_int]\n",
    "        \n",
    "prediction_probs = knn.predict_proba(X_testing)\n",
    "\n",
    "from scipy.sparse import csr_matrix\n",
    "prediction_probs = csr_matrix(prediction_probs)\n",
    "\n",
    "precs, recs, f_scores, rms, mis, rus, s_vals = threshold_stats(csr_matrix(y_testing), prediction_probs, test_ia)"
   ]
  },
  {
   "cell_type": "code",
   "execution_count": 40,
   "metadata": {},
   "outputs": [],
   "source": [
    "with open(\"data/ia_dict.json\", \"r\") as f:\n",
    "    ia_dict = {int(x): float(y) for x, y in json.load(f).items()}\n",
    "\n",
    "test_ia = np.zeros(len(term_list))\n",
    "for i, test_id in enumerate(term_list):\n",
    "    id_int = int(test_id[3:])\n",
    "    if(id_int in go and id_int in ia_dict):\n",
    "        test_ia[i] = ia_dict[id_int]"
   ]
  },
  {
   "cell_type": "code",
   "execution_count": 48,
   "metadata": {},
   "outputs": [
    {
     "name": "stderr",
     "output_type": "stream",
     "text": [
      "/home/andrew/anaconda3/envs/research/lib/python3.8/site-packages/sklearn/metrics/_classification.py:1272: UndefinedMetricWarning: Precision and F-score are ill-defined and being set to 0.0 due to no predicted samples. Use `zero_division` parameter to control this behavior.\n",
      "  _warn_prf(average, modifier, msg_start, len(result))\n",
      "/home/andrew/research/gene_ontology_ML/go_bench/src/go_bench/metrics.py:34: RuntimeWarning: invalid value encountered in double_scalars\n",
      "  s_vals.append(s)\n"
     ]
    }
   ],
   "source": [
    "from scipy.sparse import csr_matrix\n",
    "prediction_probs = csr_matrix(prediction_probs)\n",
    "\n",
    "precs, recs, f_scores, rms, mis, rus, s_vals = threshold_stats(csr_matrix(y_testing), prediction_probs, test_ia)"
   ]
  },
  {
   "cell_type": "code",
   "execution_count": 60,
   "metadata": {},
   "outputs": [
    {
     "data": {
      "image/png": "[encoded data removed]",
      "text/plain": [
       "<Figure size 432x288 with 1 Axes>"
      ]
     },
     "metadata": {
      "needs_background": "light"
     },
     "output_type": "display_data"
    },
    {
     "name": "stdout",
     "output_type": "stream",
     "text": [
      "0.426277660046326\n"
     ]
    },
    {
     "data": {
      "image/png": "[encoded data removed]",
      "text/plain": [
       "<Figure size 432x288 with 1 Axes>"
      ]
     },
     "metadata": {
      "needs_background": "light"
     },
     "output_type": "display_data"
    },
    {
     "data": {
      "image/png": "[encoded data removed]",
      "text/plain": [
       "<Figure size 432x288 with 1 Axes>"
      ]
     },
     "metadata": {
      "needs_background": "light"
     },
     "output_type": "display_data"
    }
   ],
   "source": [
    "import matplotlib.pyplot as plt\n",
    "plt.plot(precs[:-1], recs[:-1])\n",
    "plt.xlabel(\"Recall\")\n",
    "plt.ylabel(\"Precision\")\n",
    "plt.title(\"\")\n",
    "plt.show()\n",
    "plt.plot(f_scores)\n",
    "print(max(f_scores))\n",
    "plt.show()\n",
    "plt.plot(rms)\n",
    "plt.show()"
   ]
  },
  {
   "cell_type": "markdown",
   "metadata": {},
   "source": [
    "# Save predictions for submission"
   ]
  },
  {
   "cell_type": "code",
   "execution_count": 55,
   "metadata": {},
   "outputs": [],
   "source": [
    "write_sparse(f'data/molecular_function_predictions.tsv', prediction_probs, testing_ids, term_list, go, 0.01)"
   ]
  },
  {
   "cell_type": "markdown",
   "metadata": {},
   "source": [
    "# Submit predictions\n",
    "\n",
    "Submit predictions in the CAFA format (As produced by the write_sparse function) to the GO Bench website to compare with other teams, and see evaluations. \n",
    "\n",
    "<img src=\"images/gb_upload_screen.png\" width=550>\n",
    "\n",
    "After submission, you can view your model on our leaderboard, or visualize its results using the model visualizations tool on the sideboard. \n",
    "\n",
    "<img src=\"images/model_viz_page.png\" width=600>\n"
   ]
  },
  {
   "cell_type": "code",
   "execution_count": null,
   "metadata": {},
   "outputs": [],
   "source": []
  }
 ],
 "metadata": {
  "kernelspec": {
   "display_name": "Python 3",
   "language": "python",
   "name": "python3"
  },
  "language_info": {
   "codemirror_mode": {
    "name": "ipython",
    "version": 3
   },
   "file_extension": ".py",
   "mimetype": "text/x-python",
   "name": "python",
   "nbconvert_exporter": "python",
   "pygments_lexer": "ipython3",
   "version": "3.8.1"
  }
 },
 "nbformat": 4,
 "nbformat_minor": 4
}
